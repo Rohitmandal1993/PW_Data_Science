{
 "cells": [
  {
   "cell_type": "markdown",
   "id": "67ad1bda-b240-4b00-9c89-9b5026d1924d",
   "metadata": {},
   "source": [
    "Q1) Create one variable containing following type of data:\n",
    "    (i) string\n",
    "    (ii) list\n",
    "    (iii) float\n",
    "    (iv) tuple\n"
   ]
  },
  {
   "cell_type": "code",
   "execution_count": 22,
   "id": "a7fb7844-23be-45e9-941a-1d5cd40478f9",
   "metadata": {},
   "outputs": [
    {
     "name": "stdout",
     "output_type": "stream",
     "text": [
      "<class 'str'>\n",
      "<class 'list'>\n",
      "<class 'float'>\n",
      "<class 'tuple'>\n"
     ]
    }
   ],
   "source": [
    "# Answers 1\n",
    "\n",
    "a=\"hello\"\n",
    "b=['hello world',25,\"rohit\",25.5,25.4j]\n",
    "c=25.5\n",
    "d=(\"rohit\",25,\"my world\",25.5,25.4j)\n",
    "print(type(a))\n",
    "print(type(b))\n",
    "print(type(c))\n",
    "print(type(d))"
   ]
  },
  {
   "cell_type": "markdown",
   "id": "ef5a5835-2be4-46dc-b571-f8b6076f1b05",
   "metadata": {},
   "source": [
    "Q2. Given are some following variables containing data:\n",
    "    (i)var1=‘‘\n",
    "    (ii) var2 = ‘[ DS , ML , Python]’\n",
    "    (iii) var3 = [ ‘DS’ , ’ML’ , ‘Python’ ]\n",
    "    (iv) var4 = 1.\n",
    "\n",
    "What will be the data type of the above given variable."
   ]
  },
  {
   "cell_type": "code",
   "execution_count": 23,
   "id": "be4ee302-cd89-433a-8b93-c4e5bc907cbd",
   "metadata": {},
   "outputs": [
    {
     "name": "stdout",
     "output_type": "stream",
     "text": [
      "<class 'str'>\n",
      "<class 'str'>\n",
      "<class 'list'>\n",
      "<class 'float'>\n"
     ]
    }
   ],
   "source": [
    "# Answers 2\n",
    "\n",
    "var1=''\n",
    "var2 ='[DS,ML,Python]'\n",
    "var3 =['DS','ML','Python']\n",
    "var4 = 1.\n",
    "\n",
    "print(type(var1))\n",
    "print(type(var2))\n",
    "print(type(var3))\n",
    "print(type(var4))"
   ]
  },
  {
   "cell_type": "markdown",
   "id": "6dd83b4e-5799-48da-8712-5e4d8a7fd2aa",
   "metadata": {},
   "source": [
    "Q3. Explain the use of the following operators using an example:\n",
    "(i) /\n",
    "(ii) %\n",
    "(iii) //\n",
    "(iv) **\n"
   ]
  },
  {
   "cell_type": "code",
   "execution_count": 24,
   "id": "86297793-d511-410c-9dbc-776c0a2a86ee",
   "metadata": {},
   "outputs": [
    {
     "name": "stdout",
     "output_type": "stream",
     "text": [
      "6.666666666666667\n",
      "2\n",
      "6\n",
      "8000\n"
     ]
    }
   ],
   "source": [
    "# Answers 3\n",
    "\n",
    "a=20\n",
    "b=3\n",
    "\n",
    "# (i) \"/\" is used for division.\n",
    "c=a/b\n",
    "print(c)\n",
    "# (ii) \"%\" is called Modulus and used for providing the remender.\n",
    "d=a%b\n",
    "print(d)\n",
    "# (iii) \"//\" is called Floor Division and its Divides and returns the integer value and dumps the digits after the decimal.\n",
    "e=a//b\n",
    "print(e)\n",
    "# (iv) \"**\" is called Exponentiation and used for Raises the first number to the power of the second.\n",
    "f=a**b\n",
    "print(f)"
   ]
  },
  {
   "cell_type": "markdown",
   "id": "660b921f-acf6-4f1a-b3e0-019e7ccecd2e",
   "metadata": {},
   "source": [
    "Q4. Create a list of length 10 of your choice containing multiple types of data. Using for loop print the element and its data type."
   ]
  },
  {
   "cell_type": "code",
   "execution_count": 25,
   "id": "7394994d-3b06-43bc-a6d6-6263f8ac1e98",
   "metadata": {},
   "outputs": [
    {
     "name": "stdout",
     "output_type": "stream",
     "text": [
      "rohit\n",
      "mohit\n",
      "sameer\n",
      "24.5\n",
      "26.7\n",
      "23\n",
      "24.8j\n",
      "india\n",
      "data science\n",
      "pw\n"
     ]
    }
   ],
   "source": [
    "# Answers 4 printing the list with the help of for loop.\n",
    "list=[\"rohit\",\"mohit\",\"sameer\",24.5,26.7,23,24.8j,'india','data science','pw']\n",
    "\n",
    "for x in list:\n",
    "    print(x)"
   ]
  },
  {
   "cell_type": "markdown",
   "id": "70477ef8-e2d2-46d2-be83-48fd1b83646c",
   "metadata": {},
   "source": [
    "Q5. Using a while loop, verify if the number A is purely divisible by number B and if so then how many times it can be divisible."
   ]
  },
  {
   "cell_type": "code",
   "execution_count": 27,
   "id": "55672c21-01a6-436d-abca-8daa2b33d1d3",
   "metadata": {},
   "outputs": [
    {
     "name": "stdin",
     "output_type": "stream",
     "text": [
      " 14\n",
      " 6\n"
     ]
    },
    {
     "name": "stdout",
     "output_type": "stream",
     "text": [
      "A is not purely divisible by number B\n"
     ]
    }
   ],
   "source": [
    "# Answers 5\n",
    "A = int(input())\n",
    "B = int(input())\n",
    "while A%B==0:\n",
    "    e=A//B\n",
    "    print('A is purely divisible by number B and it can be divisible by',e,'times' )\n",
    "    break\n",
    "else:\n",
    "    print(\"A is not purely divisible by number B\")"
   ]
  },
  {
   "cell_type": "markdown",
   "id": "cfa9d8ab-5835-4e81-847a-0ff16526b2d6",
   "metadata": {},
   "source": [
    "Q6. Create a list containing 25 int type data. Using for loop and if-else condition print if the element is divisible by 3 or not."
   ]
  },
  {
   "cell_type": "code",
   "execution_count": 21,
   "id": "7f01cc13-26a9-489e-9c7a-8ca91dc5d916",
   "metadata": {},
   "outputs": [
    {
     "name": "stdout",
     "output_type": "stream",
     "text": [
      "[1, 2, 3, 4, 5, 6, 7, 8, 9, 10, 11, 12, 13, 14, 15, 16, 17, 18, 19, 20, 21, 22, 23, 24, 25]\n",
      "1  is not divible by 3\n",
      "2  is not divible by 3\n",
      "3  is divible by 3\n",
      "4  is not divible by 3\n",
      "5  is not divible by 3\n",
      "6  is divible by 3\n",
      "7  is not divible by 3\n",
      "8  is not divible by 3\n",
      "9  is divible by 3\n",
      "10  is not divible by 3\n",
      "11  is not divible by 3\n",
      "12  is divible by 3\n",
      "13  is not divible by 3\n",
      "14  is not divible by 3\n",
      "15  is divible by 3\n",
      "16  is not divible by 3\n",
      "17  is not divible by 3\n",
      "18  is divible by 3\n",
      "19  is not divible by 3\n",
      "20  is not divible by 3\n",
      "21  is divible by 3\n",
      "22  is not divible by 3\n",
      "23  is not divible by 3\n",
      "24  is divible by 3\n",
      "25  is not divible by 3\n"
     ]
    }
   ],
   "source": [
    "rohit=[*range(1,26)]\n",
    "print(rohit)\n",
    "for i in rohit:\n",
    "    if i%3==0:\n",
    "        print(i, \" is divible by 3\")\n",
    "    else:\n",
    "        print(i, \" is not divible by 3\")"
   ]
  },
  {
   "cell_type": "markdown",
   "id": "eec955ae-cc46-4fae-9111-86cc42736421",
   "metadata": {},
   "source": [
    "Q7. What do you understand about mutable and immutable data types? Give examples for both showing this property."
   ]
  },
  {
   "cell_type": "code",
   "execution_count": 30,
   "id": "39867905-5a62-462f-8bae-ceae50f9f5c9",
   "metadata": {},
   "outputs": [
    {
     "name": "stdout",
     "output_type": "stream",
     "text": [
      "<class 'tuple'>\n",
      "List after appending a value =  [1, 2, 3, 4, 5, 10]\n",
      "List after extending a list =  [1, 2, 3, 4, 5, 10, 6, 11, 23]\n",
      "List after removing a value =  [1, 2, 4, 5, 10, 6, 11, 23]\n"
     ]
    }
   ],
   "source": [
    "# Answers7 \n",
    "# in python we have both mutable and immutable collection data types. \n",
    "# Strings and tuples are immutable, while lists, dictionaries, and sets are mutable.\n",
    "# In mutable data type we can edit the data but in immutable data type we cannot alter the data.\n",
    "# Basically, mutable data types in Python are those whose value can be changed in place after they have been created.\n",
    "# here are the some example :-\n",
    "\n",
    "string=\"rohit\"\n",
    "tuples=(\"rohit\",18,\"mandal\")\n",
    "lists=[\"rohit\",18,\"mandal\"]\n",
    "dic={\"name\":\"rohit\",\"age\":29}\n",
    "\n",
    "# example to demonstrate list is a mutable data type in python\n",
    "my_list = [1,2,3,4,5]\n",
    "\n",
    "my_list.append(10)\n",
    "print(\"List after appending a value = \",my_list)\n",
    "\n",
    "my_list.extend([6,11,23])\n",
    "print(\"List after extending a list = \",my_list)\n",
    "\n",
    "my_list.remove(3)\n",
    "# printing our list after the operation\n",
    "print(\"List after removing a value = \",my_list)\n"
   ]
  },
  {
   "cell_type": "code",
   "execution_count": null,
   "id": "d2a89ed9-ac8f-45e3-975a-f7c5de9e4e98",
   "metadata": {},
   "outputs": [],
   "source": []
  }
 ],
 "metadata": {
  "kernelspec": {
   "display_name": "Python 3 (ipykernel)",
   "language": "python",
   "name": "python3"
  },
  "language_info": {
   "codemirror_mode": {
    "name": "ipython",
    "version": 3
   },
   "file_extension": ".py",
   "mimetype": "text/x-python",
   "name": "python",
   "nbconvert_exporter": "python",
   "pygments_lexer": "ipython3",
   "version": "3.10.8"
  }
 },
 "nbformat": 4,
 "nbformat_minor": 5
}
